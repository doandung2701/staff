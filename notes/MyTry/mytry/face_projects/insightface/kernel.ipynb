{
  "cells": [
    {
      "metadata": {
        "_uuid": "3a98d3a3c79daa815c0e1562eaf3aab659e7c861"
      },
      "cell_type": "markdown",
      "source": "# AIviVN Celebs Re-identification Baseline\n\n## Phương pháp chung\n\nRất đơn giản thôi, mình sử dụng pretrained facenet từ repo này https://github.com/nyoki-mtl/keras-facenet . Tính embedding cho mỗi ảnh, so sánh mỗi embedding mỗi ảnh trong tập test với từng nhóm các embeddings thuộc cùng một người trong tập train, tìm ra khoảng cách ngắn nhất của mỗi ảnh đến mỗi người"
    },
    {
      "metadata": {
        "_uuid": "8f2839f25d086af736a60e9eeb907d3b93b6e0e5",
        "_cell_guid": "b1076dfc-b9ad-4769-8c92-a6c4dae69d19",
        "trusted": true
      },
      "cell_type": "code",
      "source": "import numpy as np\nimport os\nimport matplotlib.pyplot as plt\nimport cv2\nfrom sklearn.decomposition import PCA\nfrom mpl_toolkits.mplot3d import Axes3D\nfrom mpl_toolkits.mplot3d import proj3d\nfrom imageio import imread\nfrom skimage.transform import resize\nfrom scipy.spatial import distance\nfrom keras.models import load_model\nimport pandas as pd\nfrom tqdm import tqdm",
      "execution_count": null,
      "outputs": []
    },
    {
      "metadata": {
        "_uuid": "d0a0ffc43174fd810a172c7e0fe57cf0461c5724"
      },
      "cell_type": "markdown",
      "source": "Load model train sẵn lên"
    },
    {
      "metadata": {
        "_cell_guid": "79c7e3d0-c299-4dcb-8224-4455121ee9b0",
        "_uuid": "d629ff2d2480ee46fbb7e2d37f6b5fab8052498a",
        "trusted": true
      },
      "cell_type": "code",
      "source": "model_path = '../input/facenetmodel/keras-facenet/facenet_keras.h5'\nmodel = load_model(model_path)",
      "execution_count": null,
      "outputs": []
    },
    {
      "metadata": {
        "_uuid": "b29689a427769ffa8bd4383bf2b2fad50e1a72a6"
      },
      "cell_type": "markdown",
      "source": "Các bước load ảnh và chuẩn hóa trước khi cho vào mạng."
    },
    {
      "metadata": {
        "trusted": true,
        "_uuid": "b8da009689331982f628256abc151cbbd7e288a1"
      },
      "cell_type": "code",
      "source": "def prewhiten(x):\n    if x.ndim == 4:\n        axis = (1, 2, 3)\n        size = x[0].size\n    elif x.ndim == 3:\n        axis = (0, 1, 2)\n        size = x.size\n    else:\n        raise ValueError('Dimension should be 3 or 4')\n\n    mean = np.mean(x, axis=axis, keepdims=True)\n    std = np.std(x, axis=axis, keepdims=True)\n    std_adj = np.maximum(std, 1.0/np.sqrt(size))\n    y = (x - mean) / std_adj\n    return y\n\ndef l2_normalize(x, axis=-1, epsilon=1e-10):\n    output = x / np.sqrt(np.maximum(np.sum(np.square(x), axis=axis, keepdims=True), epsilon))\n    return output\n\ndef load_and_align_images(filepaths, margin,image_size = 160):\n    \n    aligned_images = []\n    for filepath in filepaths:\n        img = imread(filepath)\n        aligned = resize(img, (image_size, image_size), mode='reflect')\n        aligned_images.append(aligned)\n            \n    return np.array(aligned_images)\n\n",
      "execution_count": null,
      "outputs": []
    },
    {
      "metadata": {
        "_uuid": "2b9ba6f99def74e90c2097c1da39f258664d0621"
      },
      "cell_type": "markdown",
      "source": "Hàm tính embedding, trong code gốc để `l2_normalize` nên mình cũng để nguyên vậy"
    },
    {
      "metadata": {
        "trusted": true,
        "_uuid": "4d81f154869853bcc2fb8b1899094d97ba237c72"
      },
      "cell_type": "code",
      "source": "def calc_embs(filepaths, margin=10, batch_size=512):\n    pd = []\n    for start in tqdm(range(0, len(filepaths), batch_size)):\n        aligned_images = prewhiten(load_and_align_images(filepaths[start:start+batch_size], margin))\n        pd.append(model.predict_on_batch(aligned_images))\n    embs = l2_normalize(np.concatenate(pd))\n\n    return embs",
      "execution_count": null,
      "outputs": []
    },
    {
      "metadata": {
        "_uuid": "773d52630a23c55e5ee341a12be1059464394510"
      },
      "cell_type": "markdown",
      "source": "Load các file metadata"
    },
    {
      "metadata": {
        "trusted": true,
        "_uuid": "bc47aa8629a1441bf57af6aa81272dde2ab4e191"
      },
      "cell_type": "code",
      "source": "test_path = '../input/vn-celeb-face-recognition/vn_celeb_face_recognition/test/'\ntrain_path = '../input/vn-celeb-face-recognition/vn_celeb_face_recognition/train/'\n\ntrain_df = pd.read_csv('../input/vn-celeb-face-recognition/vn_celeb_face_recognition/train.csv')\ntest_df = pd.read_csv('../input/vn-celeb-face-recognition/vn_celeb_face_recognition/sample_submission.csv')",
      "execution_count": null,
      "outputs": []
    },
    {
      "metadata": {
        "_uuid": "4e928c571e32d70a3ec232b4f4778029b4b1edab"
      },
      "cell_type": "markdown",
      "source": "Bây giờ ta tính embeddings cho tất cả các ảnh trong tập train cũng như tập test"
    },
    {
      "metadata": {
        "trusted": true,
        "_uuid": "2570654c6280bbba36c39050b563c8ff5818014a"
      },
      "cell_type": "code",
      "source": "train_embs = calc_embs([os.path.join(train_path, f) for f in train_df.image.values])\nnp.save(\"train_embs.npy\", train_embs)",
      "execution_count": null,
      "outputs": []
    },
    {
      "metadata": {
        "trusted": true,
        "_uuid": "8077ea2a31e3fa2e65f1067db9d10a9c800eb3f5"
      },
      "cell_type": "code",
      "source": "test_embs = calc_embs([os.path.join(test_path, f) for f in test_df.image.values])\nnp.save(\"test_embs.npy\", test_embs)",
      "execution_count": null,
      "outputs": []
    },
    {
      "metadata": {
        "_uuid": "35f543e13d39b564b57de62ad9d23c06b79f9eb5"
      },
      "cell_type": "markdown",
      "source": "Lọc ra tập các index trong file train.csv chứa cùng 1 label (từ 0 - 999), tiện cho tính toán bên dưới"
    },
    {
      "metadata": {
        "trusted": true,
        "_uuid": "067f38155e699d4380b919c202dd3d59ea0dd479"
      },
      "cell_type": "code",
      "source": "# indices which belong to each label\nlabel2idx = []\n\nfor i in tqdm(range(1000)):\n    label2idx.append(np.asarray(train_df[train_df.label == i].index))",
      "execution_count": null,
      "outputs": []
    },
    {
      "metadata": {
        "_uuid": "9c46a946f505b7d248f1a99a20b9202484f75eb5"
      },
      "cell_type": "markdown",
      "source": "Để chèn class 1000 vào dự đoán, mình dùng 1 phương pháp đơn giản là dùng ngưỡng.\n\nĐầu tiên mình sẽ vẽ phân phối xác suất của 2 biến:\n\n- Khoảng cách euclide giữa 2 ảnh nếu chúng thuộc cùng một mặt.\n\n- Khoảng cách euclide giữa 2 ảnh nếu chúng thuộc 2 mặt khác nhau.\n\nMục đích là tìm 1 khoảng cách thích hợp để nếu khoảng cách từ 1 ảnh đến tất cả các ảnh đều cao hơn nó thì sẽ khẳng định nó là unkown vậy thôi."
    },
    {
      "metadata": {
        "trusted": true,
        "_uuid": "e6f2328c4889dce14e07f5673b92df100ef74073"
      },
      "cell_type": "code",
      "source": "import matplotlib.pyplot as plt\n\nmatch_distances = []\nfor i in range(1000):\n    ids = label2idx[i]\n    distances = []\n    for j in range(len(ids) - 1):\n        for k in range(j + 1, len(ids)):\n            distances.append(distance.euclidean(train_embs[ids[j]], train_embs[ids[k]]))\n    match_distances.extend(distances)\n    \nunmatch_distances = []\nfor i in range(1000):\n    ids = label2idx[i]\n    distances = []\n    for j in range(5):\n        idx = np.random.randint(train_embs.shape[0])\n        while idx in label2idx[i]:\n            idx = np.random.randint(train_embs.shape[0])\n        distances.append(distance.euclidean(train_embs[ids[np.random.randint(len(ids))]], train_embs[idx]))\n    unmatch_distances.extend(distances)\n    \n_,_,_=plt.hist(match_distances,bins=100)\n_,_,_=plt.hist(unmatch_distances,bins=100,fc=(1, 0, 0, 0.5))",
      "execution_count": null,
      "outputs": []
    },
    {
      "metadata": {
        "_uuid": "3b8447574f6445b236cc778c1cb343b71a52aba3"
      },
      "cell_type": "markdown",
      "source": "Mình sẽ chọn chỗ giao nhau giữa 2 thằng tức là tầm 1.1"
    },
    {
      "metadata": {
        "trusted": true,
        "_uuid": "9c23ad5f263dab6ffeee6bbea43d52c5b9ef78a9"
      },
      "cell_type": "code",
      "source": "threshold = 1.1",
      "execution_count": null,
      "outputs": []
    },
    {
      "metadata": {
        "_uuid": "4fb633f28cbcf982d220754a258905f4c78bac58"
      },
      "cell_type": "markdown",
      "source": "Tính toán khoảng cách giữa 2 tập và đưa ra dự đoán."
    },
    {
      "metadata": {
        "trusted": true,
        "_uuid": "c65eb6eeef58b3e1c59a2a35890971245bbb4529"
      },
      "cell_type": "code",
      "source": "for i in tqdm(range(len(test_df.image))):\n    distances = []\n    for j in range(1000):\n        distances.append(np.min([distance.euclidean(test_embs[i], train_embs[k]) for k in label2idx[j]]))\n    distances.append(threshold)\n    test_df.loc[i].label = ' '.join([str(p) for p in np.argsort(distances)[:5]])",
      "execution_count": null,
      "outputs": []
    },
    {
      "metadata": {
        "trusted": true,
        "_uuid": "1e2db3e5261a20466cb11b4bfc1273627abcfeb9"
      },
      "cell_type": "code",
      "source": "test_df.to_csv(\"sub.csv\", index=False)",
      "execution_count": null,
      "outputs": []
    }
  ],
  "metadata": {
    "kernelspec": {
      "display_name": "Python 3",
      "language": "python",
      "name": "python3"
    },
    "language_info": {
      "name": "python",
      "version": "3.6.6",
      "mimetype": "text/x-python",
      "codemirror_mode": {
        "name": "ipython",
        "version": 3
      },
      "pygments_lexer": "ipython3",
      "nbconvert_exporter": "python",
      "file_extension": ".py"
    }
  },
  "nbformat": 4,
  "nbformat_minor": 1
}